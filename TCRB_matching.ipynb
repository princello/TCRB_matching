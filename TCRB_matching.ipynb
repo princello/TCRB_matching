{
 "cells": [
  {
   "cell_type": "code",
   "execution_count": 1,
   "id": "6ef6c5b1-82da-4b27-9582-9c2184bd4752",
   "metadata": {},
   "outputs": [],
   "source": [
    "import numpy as np\n",
    "import pandas as pd"
   ]
  },
  {
   "cell_type": "markdown",
   "id": "c7a0160d-3ac8-4aad-a622-ec0eb67cec32",
   "metadata": {
    "tags": []
   },
   "source": [
    "## Data pre-processing"
   ]
  },
  {
   "cell_type": "markdown",
   "id": "f52717ce-943d-482a-ac1f-f5d65266e60f",
   "metadata": {
    "tags": []
   },
   "source": [
    "### Read 10x and adaptive tcr sequencing data\n",
    "\n",
    "---\n",
    "\n",
    "**10x TCR Data (`tenx_data`)**:\n",
    "- **Origin**: This dataset comes from 10X TCR sequencing (all_contig_annotations.csv).\n",
    "- **Mandatory Columns**:\n",
    "  - **barcode**: Unique identifier for each single cell.\n",
    "  - **chain**: The specific T cell receptor chain being analyzed.\n",
    "  - **cdr3**: The amino acid sequence of the CDR3 region.\n",
    "  - **cdr3_nt**: The nucleotide sequence of the CDR3 region.\n",
    "  - **v_gene** (also known as TCR V gene name): Represents the variable gene segment of the T cell receptor. It's a part of the TCR's genetic makeup.\n",
    "  - **j_gene**: Represents the joining gene segment of the T cell receptor.\n",
    "  - **raw_consensus_id**: A unique identifier for the consensus sequence.\n",
    "\n",
    "**Note**: Different versions of the sequencing data might have alternative column names. Always refer to the latest documentation or data specification to ensure compatibility.\n",
    "\n",
    "---\n",
    "\n",
    "**Adaptive TRB Data (`adap_data`)**:\n",
    "- **Origin**: This dataset comes from Adaptive TRB sequencing.\n",
    "- **Mandatory Columns**:\n",
    "  - **v_resolved**: Represents the resolved variable gene segment of the T cell receptor, analogous to the `v_gene` in the TCR data.\n",
    "  - **j_resolved**: Represents the resolved joining gene segment of the T cell receptor.\n",
    "  - **rearrangement**: The nucleotide (nt) sequence representing the rearranged T cell receptor gene.\n",
    "  - **amino_acid**: Represents the amino acid sequence of the CDR3 region, a crucial part of the TCR that interacts with antigens.\n",
    "  - **productive_frequency**: Frequency of productive T cell receptors with the given rearrangement.\n",
    "\n",
    "**Note**: As with the TCR data, different versions of the Adaptive TRB sequencing data might have alternative column names. Users should always refer to the latest documentation or data specification to ensure proper understanding and compatibility.\n",
    "\n",
    "---"
   ]
  },
  {
   "cell_type": "code",
   "execution_count": 2,
   "id": "17cf26f9-7f1e-4093-92e2-a7717a49a140",
   "metadata": {},
   "outputs": [],
   "source": [
    "tenx_file = '/Users/zw2595/Documents/workstation/data/jian/MJ018/all_contig_annotations.csv'\n",
    "adap_file = '/Users/zw2595/Dropbox/Jianing/Pt21 postTx MLR/Pt21 include postTx MLR_RearrangementDetails_12-26-2019_4-42-35_PM.tsv'\n"
   ]
  },
  {
   "cell_type": "code",
   "execution_count": 3,
   "id": "9454c23f-1bf4-494c-95c3-13a810be0b2c",
   "metadata": {},
   "outputs": [],
   "source": [
    "tenx_data = pd.read_csv(tenx_file)\n",
    "adap_data = pd.read_csv(adap_file, sep='\\t')"
   ]
  },
  {
   "cell_type": "code",
   "execution_count": 4,
   "id": "784347f0-eeca-4c40-9660-bb846436acfd",
   "metadata": {
    "tags": []
   },
   "outputs": [
    {
     "data": {
      "text/html": [
       "<div>\n",
       "<style scoped>\n",
       "    .dataframe tbody tr th:only-of-type {\n",
       "        vertical-align: middle;\n",
       "    }\n",
       "\n",
       "    .dataframe tbody tr th {\n",
       "        vertical-align: top;\n",
       "    }\n",
       "\n",
       "    .dataframe thead th {\n",
       "        text-align: right;\n",
       "    }\n",
       "</style>\n",
       "<table border=\"1\" class=\"dataframe\">\n",
       "  <thead>\n",
       "    <tr style=\"text-align: right;\">\n",
       "      <th></th>\n",
       "      <th>barcode</th>\n",
       "      <th>is_cell</th>\n",
       "      <th>contig_id</th>\n",
       "      <th>high_confidence</th>\n",
       "      <th>length</th>\n",
       "      <th>chain</th>\n",
       "      <th>v_gene</th>\n",
       "      <th>d_gene</th>\n",
       "      <th>j_gene</th>\n",
       "      <th>c_gene</th>\n",
       "      <th>full_length</th>\n",
       "      <th>productive</th>\n",
       "      <th>cdr3</th>\n",
       "      <th>cdr3_nt</th>\n",
       "      <th>reads</th>\n",
       "      <th>umis</th>\n",
       "      <th>raw_clonotype_id</th>\n",
       "      <th>raw_consensus_id</th>\n",
       "    </tr>\n",
       "  </thead>\n",
       "  <tbody>\n",
       "    <tr>\n",
       "      <th>0</th>\n",
       "      <td>AAACCTGAGCGTCTAT-1</td>\n",
       "      <td>True</td>\n",
       "      <td>AAACCTGAGCGTCTAT-1_contig_1</td>\n",
       "      <td>True</td>\n",
       "      <td>654</td>\n",
       "      <td>TRB</td>\n",
       "      <td>TRBV19</td>\n",
       "      <td>NaN</td>\n",
       "      <td>TRBJ1-5</td>\n",
       "      <td>TRBC1</td>\n",
       "      <td>True</td>\n",
       "      <td>True</td>\n",
       "      <td>CASTDRENQPQHF</td>\n",
       "      <td>TGTGCCAGCACAGACAGGGAGAATCAGCCCCAGCATTTT</td>\n",
       "      <td>1258</td>\n",
       "      <td>4</td>\n",
       "      <td>clonotype4</td>\n",
       "      <td>clonotype4_consensus_1</td>\n",
       "    </tr>\n",
       "    <tr>\n",
       "      <th>1</th>\n",
       "      <td>AAACCTGAGCGTCTAT-1</td>\n",
       "      <td>True</td>\n",
       "      <td>AAACCTGAGCGTCTAT-1_contig_2</td>\n",
       "      <td>True</td>\n",
       "      <td>687</td>\n",
       "      <td>TRA</td>\n",
       "      <td>TRAV8-3</td>\n",
       "      <td>NaN</td>\n",
       "      <td>TRAJ4</td>\n",
       "      <td>TRAC</td>\n",
       "      <td>True</td>\n",
       "      <td>True</td>\n",
       "      <td>CAVGARSGYNKLIF</td>\n",
       "      <td>TGTGCTGTGGGTGCGCGGAGTGGCTACAATAAGCTGATTTTT</td>\n",
       "      <td>1604</td>\n",
       "      <td>5</td>\n",
       "      <td>clonotype4</td>\n",
       "      <td>clonotype4_consensus_2</td>\n",
       "    </tr>\n",
       "    <tr>\n",
       "      <th>2</th>\n",
       "      <td>AAACCTGAGCGTCTAT-1</td>\n",
       "      <td>True</td>\n",
       "      <td>AAACCTGAGCGTCTAT-1_contig_3</td>\n",
       "      <td>True</td>\n",
       "      <td>305</td>\n",
       "      <td>None</td>\n",
       "      <td>NaN</td>\n",
       "      <td>NaN</td>\n",
       "      <td>TRBJ2-2P</td>\n",
       "      <td>TRBC2</td>\n",
       "      <td>False</td>\n",
       "      <td>False</td>\n",
       "      <td>NaN</td>\n",
       "      <td>NaN</td>\n",
       "      <td>1430</td>\n",
       "      <td>3</td>\n",
       "      <td>NaN</td>\n",
       "      <td>NaN</td>\n",
       "    </tr>\n",
       "    <tr>\n",
       "      <th>3</th>\n",
       "      <td>AAACCTGAGCTAAGAT-1</td>\n",
       "      <td>True</td>\n",
       "      <td>AAACCTGAGCTAAGAT-1_contig_1</td>\n",
       "      <td>True</td>\n",
       "      <td>462</td>\n",
       "      <td>TRA</td>\n",
       "      <td>TRAV13-1</td>\n",
       "      <td>NaN</td>\n",
       "      <td>TRAJ35</td>\n",
       "      <td>TRAC</td>\n",
       "      <td>True</td>\n",
       "      <td>True</td>\n",
       "      <td>CAARSIGFGNVLHC</td>\n",
       "      <td>TGTGCAGCAAGGTCGATAGGCTTTGGGAATGTGCTGCATTGC</td>\n",
       "      <td>500</td>\n",
       "      <td>1</td>\n",
       "      <td>clonotype410</td>\n",
       "      <td>clonotype410_consensus_2</td>\n",
       "    </tr>\n",
       "    <tr>\n",
       "      <th>4</th>\n",
       "      <td>AAACCTGAGCTAAGAT-1</td>\n",
       "      <td>True</td>\n",
       "      <td>AAACCTGAGCTAAGAT-1_contig_2</td>\n",
       "      <td>True</td>\n",
       "      <td>694</td>\n",
       "      <td>TRB</td>\n",
       "      <td>TRBV2</td>\n",
       "      <td>NaN</td>\n",
       "      <td>TRBJ1-6</td>\n",
       "      <td>NaN</td>\n",
       "      <td>True</td>\n",
       "      <td>True</td>\n",
       "      <td>CASSKDSPLHF</td>\n",
       "      <td>TGTGCCAGCAGCAAGGATTCACCCCTCCACTTT</td>\n",
       "      <td>426</td>\n",
       "      <td>2</td>\n",
       "      <td>clonotype410</td>\n",
       "      <td>clonotype410_consensus_1</td>\n",
       "    </tr>\n",
       "  </tbody>\n",
       "</table>\n",
       "</div>"
      ],
      "text/plain": [
       "              barcode  is_cell                    contig_id  high_confidence  \\\n",
       "0  AAACCTGAGCGTCTAT-1     True  AAACCTGAGCGTCTAT-1_contig_1             True   \n",
       "1  AAACCTGAGCGTCTAT-1     True  AAACCTGAGCGTCTAT-1_contig_2             True   \n",
       "2  AAACCTGAGCGTCTAT-1     True  AAACCTGAGCGTCTAT-1_contig_3             True   \n",
       "3  AAACCTGAGCTAAGAT-1     True  AAACCTGAGCTAAGAT-1_contig_1             True   \n",
       "4  AAACCTGAGCTAAGAT-1     True  AAACCTGAGCTAAGAT-1_contig_2             True   \n",
       "\n",
       "   length chain    v_gene d_gene    j_gene c_gene  full_length  productive  \\\n",
       "0     654   TRB    TRBV19    NaN   TRBJ1-5  TRBC1         True        True   \n",
       "1     687   TRA   TRAV8-3    NaN     TRAJ4   TRAC         True        True   \n",
       "2     305  None       NaN    NaN  TRBJ2-2P  TRBC2        False       False   \n",
       "3     462   TRA  TRAV13-1    NaN    TRAJ35   TRAC         True        True   \n",
       "4     694   TRB     TRBV2    NaN   TRBJ1-6    NaN         True        True   \n",
       "\n",
       "             cdr3                                     cdr3_nt  reads  umis  \\\n",
       "0   CASTDRENQPQHF     TGTGCCAGCACAGACAGGGAGAATCAGCCCCAGCATTTT   1258     4   \n",
       "1  CAVGARSGYNKLIF  TGTGCTGTGGGTGCGCGGAGTGGCTACAATAAGCTGATTTTT   1604     5   \n",
       "2             NaN                                         NaN   1430     3   \n",
       "3  CAARSIGFGNVLHC  TGTGCAGCAAGGTCGATAGGCTTTGGGAATGTGCTGCATTGC    500     1   \n",
       "4     CASSKDSPLHF           TGTGCCAGCAGCAAGGATTCACCCCTCCACTTT    426     2   \n",
       "\n",
       "  raw_clonotype_id          raw_consensus_id  \n",
       "0       clonotype4    clonotype4_consensus_1  \n",
       "1       clonotype4    clonotype4_consensus_2  \n",
       "2              NaN                       NaN  \n",
       "3     clonotype410  clonotype410_consensus_2  \n",
       "4     clonotype410  clonotype410_consensus_1  "
      ]
     },
     "execution_count": 4,
     "metadata": {},
     "output_type": "execute_result"
    }
   ],
   "source": [
    "tenx_data.head(5)"
   ]
  },
  {
   "cell_type": "code",
   "execution_count": 5,
   "id": "42b93ca9-b288-4817-92aa-47aba11b6b2c",
   "metadata": {
    "tags": []
   },
   "outputs": [
    {
     "data": {
      "text/html": [
       "<div>\n",
       "<style scoped>\n",
       "    .dataframe tbody tr th:only-of-type {\n",
       "        vertical-align: middle;\n",
       "    }\n",
       "\n",
       "    .dataframe tbody tr th {\n",
       "        vertical-align: top;\n",
       "    }\n",
       "\n",
       "    .dataframe thead th {\n",
       "        text-align: right;\n",
       "    }\n",
       "</style>\n",
       "<table border=\"1\" class=\"dataframe\">\n",
       "  <thead>\n",
       "    <tr style=\"text-align: right;\">\n",
       "      <th></th>\n",
       "      <th>sample_name</th>\n",
       "      <th>productive_frequency</th>\n",
       "      <th>templates</th>\n",
       "      <th>amino_acid</th>\n",
       "      <th>rearrangement</th>\n",
       "      <th>v_resolved</th>\n",
       "      <th>d_resolved</th>\n",
       "      <th>j_resolved</th>\n",
       "    </tr>\n",
       "  </thead>\n",
       "  <tbody>\n",
       "    <tr>\n",
       "      <th>0</th>\n",
       "      <td>Pt21_MVTx_POD306_PBMC_R-4U</td>\n",
       "      <td>0.179088</td>\n",
       "      <td>5998</td>\n",
       "      <td>CASTDRENQPQHF</td>\n",
       "      <td>ACTGTGACATCGGCCCAAAAGAACCCGACAGCTTTCTATCTCTGTG...</td>\n",
       "      <td>TCRBV19-01</td>\n",
       "      <td>TCRBD01-01*01</td>\n",
       "      <td>TCRBJ01-05*01</td>\n",
       "    </tr>\n",
       "    <tr>\n",
       "      <th>1</th>\n",
       "      <td>Pt21_MVTx_Bx_duodenum_POD243_sorted_T</td>\n",
       "      <td>0.173913</td>\n",
       "      <td>8</td>\n",
       "      <td>CASSLGGRTQYF</td>\n",
       "      <td>CTGAATGTGAACGCCTTGTTGCTGGGGGACTCGGCCCTCTATCTCT...</td>\n",
       "      <td>TCRBV05-06*01</td>\n",
       "      <td>TCRBD02-01*02</td>\n",
       "      <td>TCRBJ02-03*01</td>\n",
       "    </tr>\n",
       "    <tr>\n",
       "      <th>2</th>\n",
       "      <td>Pt21_Post_ileum_day0262</td>\n",
       "      <td>0.157714</td>\n",
       "      <td>276</td>\n",
       "      <td>CASSSRQGSGNTIYF</td>\n",
       "      <td>AGCACCTTGGAGCTGGGGGACTCGGCCCTTTATCTTTGCGCCAGCA...</td>\n",
       "      <td>TCRBV05-01*01</td>\n",
       "      <td>TCRBD01-01*01</td>\n",
       "      <td>TCRBJ01-03*01</td>\n",
       "    </tr>\n",
       "    <tr>\n",
       "      <th>3</th>\n",
       "      <td>Pt21_MVTx_POD306_PBMC_R-8U</td>\n",
       "      <td>0.155189</td>\n",
       "      <td>15238</td>\n",
       "      <td>CASSLGDRAYEQYF</td>\n",
       "      <td>ATCCAGCGCACAGAGCAGGGGGACTCGGCCATGTATCTCTGTGCCA...</td>\n",
       "      <td>TCRBV07-09</td>\n",
       "      <td>TCRBD01-01*01</td>\n",
       "      <td>TCRBJ02-07*01</td>\n",
       "    </tr>\n",
       "    <tr>\n",
       "      <th>4</th>\n",
       "      <td>Pt21_MVTx_POD306_PBMC_R-8L_D_SP</td>\n",
       "      <td>0.128365</td>\n",
       "      <td>3104</td>\n",
       "      <td>CASSLGDRAYEQYF</td>\n",
       "      <td>ATCCAGCGCACAGAGCAGGGGGACTCGGCCATGTATCTCTGTGCCA...</td>\n",
       "      <td>TCRBV07-09</td>\n",
       "      <td>TCRBD01-01*01</td>\n",
       "      <td>TCRBJ02-07*01</td>\n",
       "    </tr>\n",
       "  </tbody>\n",
       "</table>\n",
       "</div>"
      ],
      "text/plain": [
       "                             sample_name  productive_frequency  templates  \\\n",
       "0             Pt21_MVTx_POD306_PBMC_R-4U              0.179088       5998   \n",
       "1  Pt21_MVTx_Bx_duodenum_POD243_sorted_T              0.173913          8   \n",
       "2                Pt21_Post_ileum_day0262              0.157714        276   \n",
       "3             Pt21_MVTx_POD306_PBMC_R-8U              0.155189      15238   \n",
       "4        Pt21_MVTx_POD306_PBMC_R-8L_D_SP              0.128365       3104   \n",
       "\n",
       "        amino_acid                                      rearrangement  \\\n",
       "0    CASTDRENQPQHF  ACTGTGACATCGGCCCAAAAGAACCCGACAGCTTTCTATCTCTGTG...   \n",
       "1     CASSLGGRTQYF  CTGAATGTGAACGCCTTGTTGCTGGGGGACTCGGCCCTCTATCTCT...   \n",
       "2  CASSSRQGSGNTIYF  AGCACCTTGGAGCTGGGGGACTCGGCCCTTTATCTTTGCGCCAGCA...   \n",
       "3   CASSLGDRAYEQYF  ATCCAGCGCACAGAGCAGGGGGACTCGGCCATGTATCTCTGTGCCA...   \n",
       "4   CASSLGDRAYEQYF  ATCCAGCGCACAGAGCAGGGGGACTCGGCCATGTATCTCTGTGCCA...   \n",
       "\n",
       "      v_resolved     d_resolved     j_resolved  \n",
       "0     TCRBV19-01  TCRBD01-01*01  TCRBJ01-05*01  \n",
       "1  TCRBV05-06*01  TCRBD02-01*02  TCRBJ02-03*01  \n",
       "2  TCRBV05-01*01  TCRBD01-01*01  TCRBJ01-03*01  \n",
       "3     TCRBV07-09  TCRBD01-01*01  TCRBJ02-07*01  \n",
       "4     TCRBV07-09  TCRBD01-01*01  TCRBJ02-07*01  "
      ]
     },
     "execution_count": 5,
     "metadata": {},
     "output_type": "execute_result"
    }
   ],
   "source": [
    "adap_data.head(5)"
   ]
  },
  {
   "cell_type": "code",
   "execution_count": 6,
   "id": "7f349a5a-cc22-4f6a-b720-b80198977f19",
   "metadata": {
    "tags": []
   },
   "outputs": [
    {
     "data": {
      "text/plain": [
       "Pt21_Pre_Recipient_CD4_unstim                  120529\n",
       "Pt21_Pre_Recipient_CD8_unstim                   88070\n",
       "Pt21_MVTx_POD626_ileum_Bx                       79416\n",
       "Pt21_Pre_Donor_CD4_unstim                       68943\n",
       "Pt21_MVTx_POD626_PBMC_T                         60370\n",
       "Pt21_Pre_Donor_CD8_unstim                       49813\n",
       "Pt21_MVTx_LN_gut_associated_POD262_sorted_T     45286\n",
       "Pt21_Post_PBMC_day0262                          26469\n",
       "Pt21_MVTx_POD306_PBMC_R-4U                      24857\n",
       "Pt21_Post_PBMC_day0023                          22361\n",
       "Pt21_Pre_Recipient_CD8_CFSElo                   22197\n",
       "Pt21_Pre_Recipient_CD4_CFSElo                   19538\n",
       "Pt21_Post_PBMC_day0109                          15208\n",
       "Pt21_MVTx_POD626_LN_T                           13035\n",
       "Pt21_MVTx_POD306_PBMC_R-8U                      12193\n",
       "Pt21_Pre_Donor_CD4_CFSElo                       10575\n",
       "Pt21_Pre_Donor_CD8_CFSElo                        9862\n",
       "Pt21_Post_PBMC_day0011                           4384\n",
       "Pt21_MVTx_POD306_PBMC_R-4L_D_SP                  3381\n",
       "Pt21_MVTx_POD306_PBMC_R-8L_D_SP                  2374\n",
       "Pt21_Post_ileum_day0109                          1276\n",
       "Pt21_Post_ileum_day0262                           788\n",
       "Pt21_Post_ileum_day0023                           365\n",
       "Pt21_MVTx_Bx_stomach_POD243_sorted_T              191\n",
       "Pt21_MVTx_Bx_duodenum_POD243_sorted_T              34\n",
       "Pt21_Post_ileum_day0243                            17\n",
       "Name: sample_name, dtype: int64"
      ]
     },
     "execution_count": 6,
     "metadata": {},
     "output_type": "execute_result"
    }
   ],
   "source": [
    "adap_data['sample_name'].value_counts()"
   ]
  },
  {
   "cell_type": "markdown",
   "id": "9230bddc-5acc-415d-8641-8c750147246e",
   "metadata": {
    "tags": []
   },
   "source": [
    "### Subsample Focusing\n",
    "\n",
    "In some experiments or analyses, it might not be necessary to process or consider all available samples. To enhance efficiency and relevancy, you can focus on specific subsamples. The code you provided demonstrates this concept:\n",
    "\n",
    "```python\n",
    "# This variable contains the name of the specific sample you're interested in. \n",
    "# It acts as a filter to limit subsequent analyses to just this sample.\n",
    "sample_name = sample name in the adap_data['sample_name']\n",
    "\n",
    "# This is the path to the file that contains the Adaptive TRB data for the specific sample named above.\n",
    "# This file will likely contain rows of labeled T cell receptor sequences or related data.\n",
    "labeled_adap_file = #your labeled adaptive TRB \n",
    "\n",
    "# This code reads the contents of the labeled TCR file and creates a list, \n",
    "# where each item in the list is a line from the file (excluding the trailing newline character).\n",
    "# Essentially, this list contains all the TRB sequences you are interested in.\n",
    "labeled_trb = open(labeled_tcr_file,'r').readlines() #with some processing to ensure the output is a TRB nt sequence list\n",
    "```\n",
    "\n",
    "**Explanation**:\n",
    "1. `sample_name`: Represents the identifier for a specific sample in the dataset. This name can be used to filter or subset the Adaptive data to hone in on the relevant sample.\n",
    "2. `labeled_adap_file`: Provides the path to the file that contains the labeled TRB sequences for the specified sample. This file will be crucial in extracting sequences and relevant data for further analyses.\n",
    "3. `labeled_trb`: This is a list that contains the T cell receptor beta (TRB) sequences you're interested in. These sequences might have been identified through prior experiments or based on existing scientific knowledge.\n",
    "\n",
    "---\n",
    "\n",
    "By utilizing the `sample_name` and the contents of `labeled_trb`, subsequent analyses can be targeted and more efficient. The provided sequences in `labeled_trb` can act as a reference or be cross-referenced with other datasets to glean insights."
   ]
  },
  {
   "cell_type": "code",
   "execution_count": 7,
   "id": "ae10ffdb-a45b-406f-b2d1-89a633db6d78",
   "metadata": {},
   "outputs": [],
   "source": [
    "sample_name = 'Pt21_MVTx_POD306_PBMC_R-8L_D_SP'"
   ]
  },
  {
   "cell_type": "code",
   "execution_count": 10,
   "id": "6ea87b1f-7742-400c-8b47-87706448628b",
   "metadata": {},
   "outputs": [],
   "source": [
    "labeled_adap_file = '/Users/zw2595/Dropbox/Jianing/Pt21 postTx MLR/Pt21_HvG_pre_post/Pt21 CD8 post-Tx POD306 HVGlist.txt'\n",
    "\n",
    "#The code reads each line from the file, and removes the trailing newline character, and adds the sequence to the list.\n",
    "labeled_trb = [i[:-1] for i in open(labeled_adap_file,'r').readlines()]"
   ]
  },
  {
   "cell_type": "code",
   "execution_count": 11,
   "id": "b3d27ed4-b678-473a-a0e9-98d7bcf84a9b",
   "metadata": {
    "tags": []
   },
   "outputs": [
    {
     "data": {
      "text/plain": [
       "['TTGTTGCTAGGGGACTCGGCCCTCTATCTCTGTGCCAGCAGCGGGGGTAGGACGACTCTCCGCAATCAGCCCCAGCATTTTGGTGAT',\n",
       " 'TCGGCTGCTCCCTCCCAGACATCTGTGTACTTCTGTGCCAGCAGTTTATATCGAGGAGGCCCCTACAATGAGCAGTTCTTCGGGCCA',\n",
       " 'AGCACCTTGGAGCTGGGGGACTCGGCCCTTTATCTTTGCGCCAGCAGCGAAGCGGGAGTCGGCACCGGGGAGCTGTTTTTTGGAGAA',\n",
       " 'GCAAAGCTTGAGGACTCGGCCGTGTATCTCTGTGCCAGCAGCCCTTTGGCGAGCGGGGACACCTACAATGAGCAGTTCTTCGGGCCA',\n",
       " 'CTCAGGCTGGAGTCGGCTGCTCCCTCCCAGACATCTGTGTACTTCTGTGCCAGCAGTGAAGAGTGGTACGAGCAGTACTTCGGGCCG']"
      ]
     },
     "execution_count": 11,
     "metadata": {},
     "output_type": "execute_result"
    }
   ],
   "source": [
    "labeled_trb[:5]"
   ]
  },
  {
   "cell_type": "markdown",
   "id": "e82b1f79-1fa9-45f3-b445-8b4010962f19",
   "metadata": {
    "tags": []
   },
   "source": [
    "## Data processing"
   ]
  },
  {
   "cell_type": "markdown",
   "id": "c48d28c5-4df0-4864-8770-a2c9e88456b3",
   "metadata": {
    "tags": []
   },
   "source": [
    "### Linking 10X TCR Sequencing Data with Adaptive TRB Sequencing Data\n",
    "\n",
    "The objective of this data processing is to establish a connection between the information provided by 10X TCR sequencing data and Adaptive TRB sequencing data, emphasizing the relevant features of T-cell receptors (TCR). To achieve this, the code is structured into three main functions, each with a specific purpose:\n",
    "\n",
    "1. **`treatcr(tenx_data)`**:\n",
    "    - This function processes the 10X TCR sequencing data.\n",
    "    - Filters the data to focus on T-cell receptors with the 'TRB' chain that have identifiable V and J gene segments.\n",
    "    - Further categorizes the V and J regions for better analysis.\n",
    "    - Counts the occurrences of each TCR clonotype, indicating clonal expansion which can be crucial for understanding immune responses.\n",
    "\n",
    "2. **`treathvg(adap_data, sample_name='', labeled_trb=[])`**:\n",
    "    - This function deals with the Adaptive TRB sequencing data.\n",
    "    - Depending on provided parameters, it can focus on specific samples or labeled TCR sequences.\n",
    "    - It ensures the V and J regions of the TCR are resolved (i.e., identifiable).\n",
    "    - Similar to `treatcr`, it further categorizes the V and J regions for nuanced analysis.\n",
    "\n",
    "3. **`link(tcr_data, hvg_data, level=1)`**:\n",
    "    - This function links the processed data from both the above functions.\n",
    "    - The linking can be done at different levels based on V and J regions. \n",
    "    - At level 1, it considers the V and J gene families, while at level 2, it takes into account the subtypes as well.\n",
    "    - The output is a filtered TCR dataset that matches with the Adaptive TRB sequences based on the linking criteria.\n",
    "\n",
    "Lastly, the main workflow combines the functionality of the three functions to deliver a consolidated result:\n",
    "1. It processes the 10X TCR sequencing data.\n",
    "2. Processes the Adaptive TRB sequencing data by focusing on specific samples and labeled TRB sequences.\n",
    "3. Establishes a link between the two processed datasets, resulting in the final output: `tcr_sel`.\n",
    "\n",
    "In essence, the provided code enables a detailed comparison and integration of 10X TCR sequencing data with Adaptive TRB sequencing data, highlighting relevant T-cell receptor sequences and their properties.\n",
    "\n",
    "--- "
   ]
  },
  {
   "cell_type": "code",
   "execution_count": 12,
   "id": "78bf1a2a-cfa9-4fa5-897c-77421831605b",
   "metadata": {},
   "outputs": [],
   "source": [
    "def treatcr(tenx_data):\n",
    "    # 1. Filter out data rows based on specific conditions.\n",
    "    #    - We're specifically interested in T cell receptors with the 'TRB' chain. \n",
    "    #    - We also ensure that the V and J regions have been identified and that there's a consensus ID.\n",
    "    #    Making a copy of the filtered DataFrame avoids any potential issues with modifying the original data.\n",
    "    tcr_data = tenx_data[\n",
    "        (tenx_data['chain'] == 'TRB') & \n",
    "        (tenx_data['v_gene'] != 'None') & \n",
    "        (tenx_data['j_gene'] != 'None') & \n",
    "        (tenx_data['raw_consensus_id'] != 'None')\n",
    "    ].copy()\n",
    "\n",
    "    # 2. Split the 'v_gene' and 'j_gene' columns by '-'\n",
    "    #    The V (Variable) and J (Joining) regions in the TCR sequences often have a format like 'TRBV6-4'.\n",
    "    #    Here, we're separating out the main family (e.g., 'TRBV6') from the specific subtype (e.g., '4').\n",
    "    tcr_data['V_split'] = tcr_data['v_gene'].str.split('-')\n",
    "    tcr_data['J_split'] = tcr_data['j_gene'].str.split('-')\n",
    "    \n",
    "    # 3. Extract relevant sub-strings from the split columns to derive 'V1', 'V2', 'J1', and 'J2' columns\n",
    "    #    This helps in further categorizing and analyzing the V and J regions separately.\n",
    "    tcr_data['V1'] = tcr_data['V_split'].str[0].str[4:].str.zfill(2)  # Extract the V family\n",
    "    tcr_data['V2'] = tcr_data['V_split'].str[1].str.zfill(2).fillna('01')  # Extract the V subtype\n",
    "    tcr_data['J1'] = tcr_data['J_split'].str[0].str[4:].str.zfill(2)  # Similar extraction for the J region\n",
    "    tcr_data['J2'] = tcr_data['J_split'].str[1].str.zfill(2).fillna('01')\n",
    "    \n",
    "    # 4. Drop the temporary columns that were used for splitting.\n",
    "    tcr_data.drop(columns=['V_split', 'J_split'], inplace=True)\n",
    "\n",
    "    # 5. Count occurrences of each 'raw_clonotype_id' and map those counts to a new column '#clones'\n",
    "    #    This gives us an idea of the clonal expansion of each TCR, which can be indicative of an immune response.\n",
    "    tcr_data['#clones'] = tcr_data['raw_clonotype_id'].map(tcr_data['raw_clonotype_id'].value_counts())\n",
    "    \n",
    "    # 6. Return the desired columns in the specified order.\n",
    "    #    These columns contain relevant information for further TCR analysis.\n",
    "    return tcr_data[['barcode', 'raw_clonotype_id', 'cdr3', 'cdr3_nt', '#clones', 'V1', 'V2', 'J1', 'J2']]\n"
   ]
  },
  {
   "cell_type": "code",
   "execution_count": 13,
   "id": "833769c3-0565-4ee4-84f8-59f12609aa01",
   "metadata": {},
   "outputs": [],
   "source": [
    "def treathvg(adap_data, sample_name='', labeled_trb=[]):\n",
    "    \"\"\"\n",
    "    Process and extract relevant information from adaptive TRB sequencing data.\n",
    "    \n",
    "    Parameters:\n",
    "    - adap_data: DataFrame containing the adaptive TRB sequencing data\n",
    "    - sample_name: Name of the sample to be filtered (if specified)\n",
    "    - labeled_trb: List of labeled CDR3 nucleotide sequences\n",
    "    \n",
    "    Returns:\n",
    "    DataFrame with columns ['rearrangement','amino_acid','V1','V2','J1','J2','productive_frequency']\n",
    "    \"\"\"\n",
    "    \n",
    "    # If no sample name or labeled data is provided, filter out rows where V and J gene annotations are unresolved.\n",
    "    # Otherwise, further filter based on sample name and labeled TRB sequences.\n",
    "    if not sample_name and not labeled_trb:\n",
    "        hvg_data = adap_data[\n",
    "            (adap_data['v_resolved'].str[:2] != 'un') & \n",
    "            (adap_data['j_resolved'].str[:2] != 'un') \n",
    "        ].copy()\n",
    "    \n",
    "    elif not sample_name:\n",
    "        hvg_data = adap_data[\n",
    "            (adap_data['v_resolved'].str[:2] != 'un') & \n",
    "            (adap_data['j_resolved'].str[:2] != 'un') &\n",
    "            (adap_data['rearrangement'].isin(labeled_trb))\n",
    "        ].copy()\n",
    "    elif not labeled_trb:\n",
    "        adap_data = adap_data[adap_data['sample_name'] == sample_name].copy()\n",
    "        hvg_data = adap_data[\n",
    "            (adap_data['v_resolved'].str[:2] != 'un') & \n",
    "            (adap_data['j_resolved'].str[:2] != 'un')\n",
    "        ] \n",
    "    else:\n",
    "        adap_data = adap_data[adap_data['sample_name'] == sample_name].copy()\n",
    "        hvg_data = adap_data[\n",
    "            (adap_data['v_resolved'].str[:2] != 'un') & \n",
    "            (adap_data['j_resolved'].str[:2] != 'un') & \n",
    "            (adap_data['rearrangement'].isin(labeled_trb))\n",
    "        ] \n",
    "\n",
    "    # Remove duplicate rows based on 'rearrangement' to get unique sequences.\n",
    "    hvg_data = hvg_data.drop_duplicates(subset='rearrangement', keep='first')\n",
    "\n",
    "    # Extract the V and J gene families and subtypes for further analysis.\n",
    "    hvg_data['V_split'] = hvg_data['v_resolved'].str.split('-')\n",
    "    hvg_data['J_split'] = hvg_data['j_resolved'].str.split('-')\n",
    "    \n",
    "    hvg_data['V1'] = hvg_data['V_split'].str[0].str[5:]\n",
    "    hvg_data['V2'] = hvg_data['V_split'].str[1].str[:2].fillna('01')\n",
    "    hvg_data['J1'] = hvg_data['J_split'].str[0].str[5:]\n",
    "    hvg_data['J2'] = hvg_data['J_split'].str[1].str[:2].fillna('01')\n",
    "    \n",
    "    # Drop the temporary columns used for splitting.\n",
    "    hvg_data.drop(columns=['V_split', 'J_split'], inplace=True)\n",
    "\n",
    "    # Return the desired columns with important TCR information.\n",
    "    return hvg_data[['rearrangement', 'amino_acid', 'V1', 'V2', 'J1', 'J2', 'productive_frequency']]\n"
   ]
  },
  {
   "cell_type": "code",
   "execution_count": 14,
   "id": "76c73eb9-4d7e-4eb8-89d7-675460426bf7",
   "metadata": {},
   "outputs": [],
   "source": [
    "def link(tcr_data, hvg_data, level=1):\n",
    "    \"\"\"\n",
    "    Links the outputs of treatcr and treathvg functions based on the given criteria.\n",
    "    \n",
    "    Parameters:\n",
    "    ----------\n",
    "    tcr_data : pd.DataFrame\n",
    "        The DataFrame from the treatcr function output.\n",
    "    hvg_data : pd.DataFrame\n",
    "        The DataFrame from the treathvg function output.\n",
    "    level : int, optional (default=1)\n",
    "        Determines the linking criteria.\n",
    "        If 1, links based on 'V1' and 'J1';\n",
    "        if 2, uses 'V1', 'V2', 'J1', and 'J2'.\n",
    "    \n",
    "    Returns:\n",
    "    --------\n",
    "    pd.DataFrame\n",
    "        Represents linked data from treatcr and treathvg outputs.\n",
    "    \"\"\"\n",
    "    \n",
    "    indexs = []\n",
    "    ans = []\n",
    "\n",
    "    for index, row in tcr_data.iterrows():\n",
    "        # Filter out records that have the row['cdr3_nt'] sequence in them.\n",
    "        matched_records = hvg_data[hvg_data['rearrangement'].str.contains(row['cdr3_nt'], na=False, regex=False)]\n",
    "        \n",
    "        ans_temp = []\n",
    "        \n",
    "        for _, rec in matched_records.iterrows():\n",
    "            # Determine match criteria based on the level argument.\n",
    "            is_match = False\n",
    "            if level == 1:\n",
    "                is_match = rec['V1'] == row['V1'] and rec['J1'] == row['J1']\n",
    "            elif level == 2:\n",
    "                is_match = (rec['V1'] == row['V1'] and rec['V2'] == row['V2'] and\n",
    "                            rec['J1'] == row['J1'] and rec['J2'] == row['J2'])\n",
    "            \n",
    "            if is_match:\n",
    "                indexs.append(index)\n",
    "                ans_temp.append(rec['rearrangement'])\n",
    "                \n",
    "        if ans_temp:\n",
    "            ans.append(ans_temp)\n",
    "\n",
    "    ans_list = ['; '.join(temp) for temp in ans]\n",
    "    indexs = sorted(set(indexs))\n",
    "    tcr_sel = tcr_data.loc[indexs]\n",
    "    tcr_sel['Adaptive NT sequences'] = ans_list\n",
    "\n",
    "    return tcr_sel\n"
   ]
  },
  {
   "cell_type": "code",
   "execution_count": 15,
   "id": "8d2d70f8-47a9-443d-a1d7-b04b9e12a550",
   "metadata": {},
   "outputs": [],
   "source": [
    "tcr_data = treatcr(tenx_data)"
   ]
  },
  {
   "cell_type": "code",
   "execution_count": 35,
   "id": "cb232c43-f598-4f9a-b4fb-0e1f411e24c3",
   "metadata": {},
   "outputs": [
    {
     "data": {
      "text/html": [
       "<div>\n",
       "<style scoped>\n",
       "    .dataframe tbody tr th:only-of-type {\n",
       "        vertical-align: middle;\n",
       "    }\n",
       "\n",
       "    .dataframe tbody tr th {\n",
       "        vertical-align: top;\n",
       "    }\n",
       "\n",
       "    .dataframe thead th {\n",
       "        text-align: right;\n",
       "    }\n",
       "</style>\n",
       "<table border=\"1\" class=\"dataframe\">\n",
       "  <thead>\n",
       "    <tr style=\"text-align: right;\">\n",
       "      <th></th>\n",
       "      <th>barcode</th>\n",
       "      <th>raw_clonotype_id</th>\n",
       "      <th>cdr3</th>\n",
       "      <th>cdr3_nt</th>\n",
       "      <th>#clones</th>\n",
       "      <th>V1</th>\n",
       "      <th>V2</th>\n",
       "      <th>J1</th>\n",
       "      <th>J2</th>\n",
       "    </tr>\n",
       "  </thead>\n",
       "  <tbody>\n",
       "    <tr>\n",
       "      <th>0</th>\n",
       "      <td>AAACCTGAGCGTCTAT-1</td>\n",
       "      <td>clonotype4</td>\n",
       "      <td>CASTDRENQPQHF</td>\n",
       "      <td>TGTGCCAGCACAGACAGGGAGAATCAGCCCCAGCATTTT</td>\n",
       "      <td>90.0</td>\n",
       "      <td>19</td>\n",
       "      <td>01</td>\n",
       "      <td>01</td>\n",
       "      <td>05</td>\n",
       "    </tr>\n",
       "    <tr>\n",
       "      <th>4</th>\n",
       "      <td>AAACCTGAGCTAAGAT-1</td>\n",
       "      <td>clonotype410</td>\n",
       "      <td>CASSKDSPLHF</td>\n",
       "      <td>TGTGCCAGCAGCAAGGATTCACCCCTCCACTTT</td>\n",
       "      <td>1.0</td>\n",
       "      <td>02</td>\n",
       "      <td>01</td>\n",
       "      <td>01</td>\n",
       "      <td>06</td>\n",
       "    </tr>\n",
       "    <tr>\n",
       "      <th>7</th>\n",
       "      <td>AAACCTGAGTAGCCGA-1</td>\n",
       "      <td>NaN</td>\n",
       "      <td>CASSLGDRAYEQYF</td>\n",
       "      <td>TGTGCCAGCAGCTTAGGGGACAGGGCCTACGAGCAGTACTTC</td>\n",
       "      <td>NaN</td>\n",
       "      <td>07</td>\n",
       "      <td>09</td>\n",
       "      <td>02</td>\n",
       "      <td>07</td>\n",
       "    </tr>\n",
       "    <tr>\n",
       "      <th>9</th>\n",
       "      <td>AAACCTGCACGTGAGA-1</td>\n",
       "      <td>clonotype257</td>\n",
       "      <td>CSAPPWGSVGYTF</td>\n",
       "      <td>TGCAGTGCTCCGCCGTGGGGCTCCGTCGGCTACACCTTC</td>\n",
       "      <td>1.0</td>\n",
       "      <td>20</td>\n",
       "      <td>01</td>\n",
       "      <td>01</td>\n",
       "      <td>02</td>\n",
       "    </tr>\n",
       "    <tr>\n",
       "      <th>10</th>\n",
       "      <td>AAACCTGCACGTGAGA-1</td>\n",
       "      <td>NaN</td>\n",
       "      <td>CASSPGTS</td>\n",
       "      <td>TGTGCCAGCAGTCCCGGGACTAGC</td>\n",
       "      <td>NaN</td>\n",
       "      <td>28</td>\n",
       "      <td>01</td>\n",
       "      <td>02</td>\n",
       "      <td>03</td>\n",
       "    </tr>\n",
       "  </tbody>\n",
       "</table>\n",
       "</div>"
      ],
      "text/plain": [
       "               barcode raw_clonotype_id            cdr3  \\\n",
       "0   AAACCTGAGCGTCTAT-1       clonotype4   CASTDRENQPQHF   \n",
       "4   AAACCTGAGCTAAGAT-1     clonotype410     CASSKDSPLHF   \n",
       "7   AAACCTGAGTAGCCGA-1              NaN  CASSLGDRAYEQYF   \n",
       "9   AAACCTGCACGTGAGA-1     clonotype257   CSAPPWGSVGYTF   \n",
       "10  AAACCTGCACGTGAGA-1              NaN        CASSPGTS   \n",
       "\n",
       "                                       cdr3_nt  #clones  V1  V2  J1  J2  \n",
       "0      TGTGCCAGCACAGACAGGGAGAATCAGCCCCAGCATTTT     90.0  19  01  01  05  \n",
       "4            TGTGCCAGCAGCAAGGATTCACCCCTCCACTTT      1.0  02  01  01  06  \n",
       "7   TGTGCCAGCAGCTTAGGGGACAGGGCCTACGAGCAGTACTTC      NaN  07  09  02  07  \n",
       "9      TGCAGTGCTCCGCCGTGGGGCTCCGTCGGCTACACCTTC      1.0  20  01  01  02  \n",
       "10                    TGTGCCAGCAGTCCCGGGACTAGC      NaN  28  01  02  03  "
      ]
     },
     "execution_count": 35,
     "metadata": {},
     "output_type": "execute_result"
    }
   ],
   "source": [
    "tcr_data.head()"
   ]
  },
  {
   "cell_type": "code",
   "execution_count": 18,
   "id": "e56b6909-7db0-41c7-93d6-9b5eb1410857",
   "metadata": {},
   "outputs": [],
   "source": [
    "hvg_data = treathvg(adap_data, sample_name, labeled_trb)"
   ]
  },
  {
   "cell_type": "code",
   "execution_count": 34,
   "id": "8180bd79-77ec-4412-8fff-6acccddb04a5",
   "metadata": {},
   "outputs": [
    {
     "data": {
      "text/html": [
       "<div>\n",
       "<style scoped>\n",
       "    .dataframe tbody tr th:only-of-type {\n",
       "        vertical-align: middle;\n",
       "    }\n",
       "\n",
       "    .dataframe tbody tr th {\n",
       "        vertical-align: top;\n",
       "    }\n",
       "\n",
       "    .dataframe thead th {\n",
       "        text-align: right;\n",
       "    }\n",
       "</style>\n",
       "<table border=\"1\" class=\"dataframe\">\n",
       "  <thead>\n",
       "    <tr style=\"text-align: right;\">\n",
       "      <th></th>\n",
       "      <th>rearrangement</th>\n",
       "      <th>amino_acid</th>\n",
       "      <th>V1</th>\n",
       "      <th>V2</th>\n",
       "      <th>J1</th>\n",
       "      <th>J2</th>\n",
       "      <th>productive_frequency</th>\n",
       "    </tr>\n",
       "  </thead>\n",
       "  <tbody>\n",
       "    <tr>\n",
       "      <th>67</th>\n",
       "      <td>TTGTTGCTAGGGGACTCGGCCCTCTATCTCTGTGCCAGCAGCGGGG...</td>\n",
       "      <td>CASSGGRTTLRNQPQHF</td>\n",
       "      <td>05</td>\n",
       "      <td>07</td>\n",
       "      <td>01</td>\n",
       "      <td>05</td>\n",
       "      <td>0.022869</td>\n",
       "    </tr>\n",
       "    <tr>\n",
       "      <th>129</th>\n",
       "      <td>CTCAGGCTGGAGTCGGCTGCTCCCTCCCAGACATCTGTGTACTTCT...</td>\n",
       "      <td>CASSEEWYEQYF</td>\n",
       "      <td>06</td>\n",
       "      <td>01</td>\n",
       "      <td>02</td>\n",
       "      <td>07</td>\n",
       "      <td>0.013647</td>\n",
       "    </tr>\n",
       "    <tr>\n",
       "      <th>176</th>\n",
       "      <td>GCCTTGGAGCTGGACGACTCGGCCCTGTATCTCTGTGCCAGCAGCT...</td>\n",
       "      <td>CASSLGGTLNFYGYTF</td>\n",
       "      <td>05</td>\n",
       "      <td>04</td>\n",
       "      <td>01</td>\n",
       "      <td>02</td>\n",
       "      <td>0.008643</td>\n",
       "    </tr>\n",
       "    <tr>\n",
       "      <th>184</th>\n",
       "      <td>ACAGTGACCAGTGCCCATCCTGAAGACAGCAGCTTCTACATCTGCA...</td>\n",
       "      <td>CSAELQGSETQYF</td>\n",
       "      <td>20</td>\n",
       "      <td>01</td>\n",
       "      <td>02</td>\n",
       "      <td>05</td>\n",
       "      <td>0.008436</td>\n",
       "    </tr>\n",
       "    <tr>\n",
       "      <th>187</th>\n",
       "      <td>AGCACCTTGGAGCTGGGGGACTCGGCCCTTTATCTTTGCGCCAGCA...</td>\n",
       "      <td>CASSEAGVGTGELFF</td>\n",
       "      <td>05</td>\n",
       "      <td>01</td>\n",
       "      <td>02</td>\n",
       "      <td>02</td>\n",
       "      <td>0.008271</td>\n",
       "    </tr>\n",
       "  </tbody>\n",
       "</table>\n",
       "</div>"
      ],
      "text/plain": [
       "                                         rearrangement         amino_acid  V1  \\\n",
       "67   TTGTTGCTAGGGGACTCGGCCCTCTATCTCTGTGCCAGCAGCGGGG...  CASSGGRTTLRNQPQHF  05   \n",
       "129  CTCAGGCTGGAGTCGGCTGCTCCCTCCCAGACATCTGTGTACTTCT...       CASSEEWYEQYF  06   \n",
       "176  GCCTTGGAGCTGGACGACTCGGCCCTGTATCTCTGTGCCAGCAGCT...   CASSLGGTLNFYGYTF  05   \n",
       "184  ACAGTGACCAGTGCCCATCCTGAAGACAGCAGCTTCTACATCTGCA...      CSAELQGSETQYF  20   \n",
       "187  AGCACCTTGGAGCTGGGGGACTCGGCCCTTTATCTTTGCGCCAGCA...    CASSEAGVGTGELFF  05   \n",
       "\n",
       "     V2  J1  J2  productive_frequency  \n",
       "67   07  01  05              0.022869  \n",
       "129  01  02  07              0.013647  \n",
       "176  04  01  02              0.008643  \n",
       "184  01  02  05              0.008436  \n",
       "187  01  02  02              0.008271  "
      ]
     },
     "execution_count": 34,
     "metadata": {},
     "output_type": "execute_result"
    }
   ],
   "source": [
    "hvg_data.head()"
   ]
  },
  {
   "cell_type": "code",
   "execution_count": 20,
   "id": "4ace20a9-858b-4a69-b1a9-d2c2b8461e9a",
   "metadata": {},
   "outputs": [],
   "source": [
    "tcr_sel = link(tcr_data, hvg_data, 2)"
   ]
  },
  {
   "cell_type": "code",
   "execution_count": 36,
   "id": "7d9eb25f-4847-42f3-853e-b6797ba42ed8",
   "metadata": {},
   "outputs": [
    {
     "data": {
      "text/html": [
       "<div>\n",
       "<style scoped>\n",
       "    .dataframe tbody tr th:only-of-type {\n",
       "        vertical-align: middle;\n",
       "    }\n",
       "\n",
       "    .dataframe tbody tr th {\n",
       "        vertical-align: top;\n",
       "    }\n",
       "\n",
       "    .dataframe thead th {\n",
       "        text-align: right;\n",
       "    }\n",
       "</style>\n",
       "<table border=\"1\" class=\"dataframe\">\n",
       "  <thead>\n",
       "    <tr style=\"text-align: right;\">\n",
       "      <th></th>\n",
       "      <th>barcode</th>\n",
       "      <th>raw_clonotype_id</th>\n",
       "      <th>cdr3</th>\n",
       "      <th>cdr3_nt</th>\n",
       "      <th>#clones</th>\n",
       "      <th>V1</th>\n",
       "      <th>V2</th>\n",
       "      <th>J1</th>\n",
       "      <th>J2</th>\n",
       "      <th>Adaptive NT sequences</th>\n",
       "    </tr>\n",
       "  </thead>\n",
       "  <tbody>\n",
       "    <tr>\n",
       "      <th>7</th>\n",
       "      <td>AAACCTGAGTAGCCGA-1</td>\n",
       "      <td>NaN</td>\n",
       "      <td>CASSLGDRAYEQYF</td>\n",
       "      <td>TGTGCCAGCAGCTTAGGGGACAGGGCCTACGAGCAGTACTTC</td>\n",
       "      <td>NaN</td>\n",
       "      <td>07</td>\n",
       "      <td>09</td>\n",
       "      <td>02</td>\n",
       "      <td>07</td>\n",
       "      <td>TTCCAGCGCACACAGCAGGGGGACTCGGCCATGTATCTCTGTGCCA...</td>\n",
       "    </tr>\n",
       "    <tr>\n",
       "      <th>15</th>\n",
       "      <td>AAACGGGAGGAGTACC-1</td>\n",
       "      <td>clonotype19</td>\n",
       "      <td>CASSVLAGPYNEQFF</td>\n",
       "      <td>TGTGCCAGCAGCGTACTAGCGGGGCCCTACAATGAGCAGTTCTTC</td>\n",
       "      <td>11.0</td>\n",
       "      <td>09</td>\n",
       "      <td>01</td>\n",
       "      <td>02</td>\n",
       "      <td>01</td>\n",
       "      <td>GAGCTCTCTGGAGCTGGGGACTCAGCTTTGTATTTCTGTGCCAGCA...</td>\n",
       "    </tr>\n",
       "    <tr>\n",
       "      <th>16</th>\n",
       "      <td>AAACGGGAGGATGGTC-1</td>\n",
       "      <td>NaN</td>\n",
       "      <td>CASSLGDRAYEQYF</td>\n",
       "      <td>TGTGCCAGCAGCTTAGGGGACAGGGCCTACGAGCAGTACTTC</td>\n",
       "      <td>NaN</td>\n",
       "      <td>07</td>\n",
       "      <td>09</td>\n",
       "      <td>02</td>\n",
       "      <td>07</td>\n",
       "      <td>TTCCAGCGCACACAGCAGGGGGACTCGGCCATGTATCTCTGTGCCA...</td>\n",
       "    </tr>\n",
       "    <tr>\n",
       "      <th>25</th>\n",
       "      <td>AAACGGGAGTCTCAAC-1</td>\n",
       "      <td>NaN</td>\n",
       "      <td>CASSLGDRAYEQYF</td>\n",
       "      <td>TGTGCCAGCAGCTTAGGGGACAGGGCCTACGAGCAGTACTTC</td>\n",
       "      <td>NaN</td>\n",
       "      <td>07</td>\n",
       "      <td>09</td>\n",
       "      <td>02</td>\n",
       "      <td>07</td>\n",
       "      <td>TTCCAGCGCACACAGCAGGGGGACTCGGCCATGTATCTCTGTGCCA...</td>\n",
       "    </tr>\n",
       "    <tr>\n",
       "      <th>78</th>\n",
       "      <td>AAAGCAATCAGATAAG-1</td>\n",
       "      <td>clonotype3</td>\n",
       "      <td>CASSQDIRVGGYTF</td>\n",
       "      <td>TGTGCCAGCAGCCAAGATATCCGGGTTGGAGGCTACACCTTC</td>\n",
       "      <td>120.0</td>\n",
       "      <td>03</td>\n",
       "      <td>01</td>\n",
       "      <td>01</td>\n",
       "      <td>02</td>\n",
       "      <td>CATCAATTCCTGGAGCTTGGTGACTCTGCTGTGTATTTCTGTGCCA...</td>\n",
       "    </tr>\n",
       "  </tbody>\n",
       "</table>\n",
       "</div>"
      ],
      "text/plain": [
       "               barcode raw_clonotype_id             cdr3  \\\n",
       "7   AAACCTGAGTAGCCGA-1              NaN   CASSLGDRAYEQYF   \n",
       "15  AAACGGGAGGAGTACC-1      clonotype19  CASSVLAGPYNEQFF   \n",
       "16  AAACGGGAGGATGGTC-1              NaN   CASSLGDRAYEQYF   \n",
       "25  AAACGGGAGTCTCAAC-1              NaN   CASSLGDRAYEQYF   \n",
       "78  AAAGCAATCAGATAAG-1       clonotype3   CASSQDIRVGGYTF   \n",
       "\n",
       "                                          cdr3_nt  #clones  V1  V2  J1  J2  \\\n",
       "7      TGTGCCAGCAGCTTAGGGGACAGGGCCTACGAGCAGTACTTC      NaN  07  09  02  07   \n",
       "15  TGTGCCAGCAGCGTACTAGCGGGGCCCTACAATGAGCAGTTCTTC     11.0  09  01  02  01   \n",
       "16     TGTGCCAGCAGCTTAGGGGACAGGGCCTACGAGCAGTACTTC      NaN  07  09  02  07   \n",
       "25     TGTGCCAGCAGCTTAGGGGACAGGGCCTACGAGCAGTACTTC      NaN  07  09  02  07   \n",
       "78     TGTGCCAGCAGCCAAGATATCCGGGTTGGAGGCTACACCTTC    120.0  03  01  01  02   \n",
       "\n",
       "                                Adaptive NT sequences  \n",
       "7   TTCCAGCGCACACAGCAGGGGGACTCGGCCATGTATCTCTGTGCCA...  \n",
       "15  GAGCTCTCTGGAGCTGGGGACTCAGCTTTGTATTTCTGTGCCAGCA...  \n",
       "16  TTCCAGCGCACACAGCAGGGGGACTCGGCCATGTATCTCTGTGCCA...  \n",
       "25  TTCCAGCGCACACAGCAGGGGGACTCGGCCATGTATCTCTGTGCCA...  \n",
       "78  CATCAATTCCTGGAGCTTGGTGACTCTGCTGTGTATTTCTGTGCCA...  "
      ]
     },
     "execution_count": 36,
     "metadata": {},
     "output_type": "execute_result"
    }
   ],
   "source": [
    "tcr_sel.head()"
   ]
  },
  {
   "cell_type": "markdown",
   "id": "836f7cf5-96c2-4269-8488-910d096c4a55",
   "metadata": {},
   "source": [
    "### random inspection"
   ]
  },
  {
   "cell_type": "code",
   "execution_count": 33,
   "id": "b9d71ed1-dce2-4334-89ba-40cd0c7e4bf3",
   "metadata": {},
   "outputs": [
    {
     "data": {
      "text/plain": [
       "barcode                                                 AAACCTGAGTAGCCGA-1\n",
       "raw_clonotype_id                                                       NaN\n",
       "cdr3                                                        CASSLGDRAYEQYF\n",
       "cdr3_nt                         TGTGCCAGCAGCTTAGGGGACAGGGCCTACGAGCAGTACTTC\n",
       "#clones                                                                NaN\n",
       "V1                                                                      07\n",
       "V2                                                                      09\n",
       "J1                                                                      02\n",
       "J2                                                                      07\n",
       "Adaptive NT sequences    TTCCAGCGCACACAGCAGGGGGACTCGGCCATGTATCTCTGTGCCA...\n",
       "Name: 7, dtype: object"
      ]
     },
     "execution_count": 33,
     "metadata": {},
     "output_type": "execute_result"
    }
   ],
   "source": [
    "tcr_sel.iloc[0]"
   ]
  },
  {
   "cell_type": "code",
   "execution_count": 23,
   "id": "d8718be2-8cc3-4686-b81a-9e84418b2a7e",
   "metadata": {},
   "outputs": [
    {
     "data": {
      "text/plain": [
       "'TTCCAGCGCACACAGCAGGGGGACTCGGCCATGTATCTCTGTGCCAGCAGCTTAGGGGACAGGGCCTACGAGCAGTACTTCGGGCCG; TCCAGCGCACAAGAGCAGGGGGACTCGGCCATGTATCTCTGTGCCAGCAGCTTAGGGGACAGGGCCTACGAGCAGTACTTCGGGCCG; ATGAGCTCCTTGGAGCAGGGGGACTCGGCCATGTATCTCTGTGCCAGCAGCTTAGGGGACAGGGCCTACGAGCAGTACTTCGGGCCG; GTGAGCACCTTGGAGCAGGGGGACTCGGCCATGTATCTCTGTGCCAGCAGCTTAGGGGACAGGGCCTACGAGCAGTACTTCGGGCCG'"
      ]
     },
     "execution_count": 23,
     "metadata": {},
     "output_type": "execute_result"
    }
   ],
   "source": [
    "tcr_sel.iloc[0]['Adaptive NT sequences']"
   ]
  },
  {
   "cell_type": "code",
   "execution_count": 92,
   "id": "22e1da61-f0d2-4645-ae84-16a597b71778",
   "metadata": {},
   "outputs": [
    {
     "data": {
      "text/plain": [
       "barcode                                                 CGTCAGGAGAAGGACA-1\n",
       "raw_clonotype_id                                               clonotype16\n",
       "cdr3                                                         CASSFGQTGELFF\n",
       "cdr3_nt                            TGTGCCAGCAGCTTTGGGCAAACCGGGGAGCTGTTTTTT\n",
       "#clones                                                               13.0\n",
       "V1                                                                      07\n",
       "V2                                                                      08\n",
       "J1                                                                      02\n",
       "J2                                                                      02\n",
       "Adaptive NT sequences    GAAGATCCAGCGCACACAGCAGAGGACTCCGCCGTGTATCTCTGTG...\n",
       "Name: 5520, dtype: object"
      ]
     },
     "execution_count": 92,
     "metadata": {},
     "output_type": "execute_result"
    }
   ],
   "source": [
    "tcr_sel.iloc[188]"
   ]
  },
  {
   "cell_type": "code",
   "execution_count": 93,
   "id": "131b3ed9-28b1-4ef8-8c1c-8b93d8f25428",
   "metadata": {},
   "outputs": [
    {
     "data": {
      "text/plain": [
       "'GAAGATCCAGCGCACACAGCAGAGGACTCCGCCGTGTATCTCTGTGCCAGCAGCTTTGGGCAAACCGGGGAGCTGTTTTTTGGAGAA; GAAGATCCAGCGCACACAGCGGAGGACTCCGCCGTGTATCTCTGTGCCAGCAGCTTTGGGCAAACCGGGGAGCTGTTTTTTGGAGAA'"
      ]
     },
     "execution_count": 93,
     "metadata": {},
     "output_type": "execute_result"
    }
   ],
   "source": [
    "tcr_sel.iloc[188]['Adaptive NT sequences']"
   ]
  },
  {
   "cell_type": "markdown",
   "id": "2033f70d-2234-46e3-8279-abb7eca84949",
   "metadata": {
    "tags": []
   },
   "source": [
    "### Let's estimate the overlaps"
   ]
  },
  {
   "cell_type": "code",
   "execution_count": 39,
   "id": "e2883fdb-bff4-4ee4-b833-c54e9fe7ccdd",
   "metadata": {},
   "outputs": [
    {
     "name": "stdout",
     "output_type": "stream",
     "text": [
      "5117 701532 2135 464\n"
     ]
    }
   ],
   "source": [
    "print (len(tcr_data), len(adap_data), len(hvg_data), len(tcr_sel))"
   ]
  },
  {
   "cell_type": "code",
   "execution_count": 77,
   "id": "095b081c-8735-41ab-a9a8-3901d0c48ec4",
   "metadata": {},
   "outputs": [
    {
     "data": {
      "image/png": "[encoded data removed]",
      "text/plain": [
       "<Figure size 288x288 with 1 Axes>"
      ]
     },
     "metadata": {},
     "output_type": "display_data"
    }
   ],
   "source": [
    "from matplotlib import pyplot as plt\n",
    "from matplotlib_venn import venn3, venn3_circles\n",
    "plt.figure(figsize=(4,4))\n",
    "v = venn3(subsets=(5117 - 464, 20000 - 464, 0, 0, 0, 2135 - 464, 464), set_labels = ('10X', 'Adaptive', 'Labeled'))\n",
    "#v.get_patch_by_id('100').set_alpha(1.0)\n",
    "#v.get_patch_by_id('100').set_color('white')\n",
    "v.get_label_by_id('010').set_text('701068')\n",
    "v.get_label_by_id('110').set_text('?')\n",
    "#v.get_label_by_id('A').set_text('Set \"A\"')\n",
    "#c = venn3_circles(subsets=(1, 1, 1, 1, 1, 1, 1), linestyle='dashed')\n",
    "#c[0].set_lw(1.0)\n",
    "#c[0].set_ls('dotted')\n",
    "#plt.title(\"Sample Venn diagram\")\n",
    "plt.annotate('Multiple samples', xy=v.get_label_by_id('010').get_position() - np.array([0, 0.05]), xytext=(-70,-70),\n",
    "             ha='center', textcoords='offset points', bbox=dict(boxstyle='round,pad=0.5', fc='gray', alpha=0.1),\n",
    "             arrowprops=dict(arrowstyle='->', connectionstyle='arc3,rad=0.5',color='gray'))\n",
    "plt.annotate('unlabeled', xy=v.get_label_by_id('110').get_position() - np.array([0.01, 0]), xytext=(0,70),\n",
    "             ha='center', textcoords='offset points', bbox=dict(boxstyle='round,pad=0.5', fc='gray', alpha=0.1),\n",
    "             arrowprops=dict(arrowstyle='->', connectionstyle='arc3,rad=0.5',color='gray'))\n",
    "plt.show()"
   ]
  },
  {
   "cell_type": "markdown",
   "id": "f9534b34-98ba-47af-9430-355586d6c11a",
   "metadata": {},
   "source": [
    "### Exhaustive search of all candidates \n",
    "It will take a while to run. Only for need to know the exact number of all matched TCRB."
   ]
  },
  {
   "cell_type": "code",
   "execution_count": 78,
   "id": "6b69cdac-3621-41d1-ad3f-f73bc479932b",
   "metadata": {},
   "outputs": [],
   "source": [
    "hvg_data_all = treathvg(adap_data, '', [])"
   ]
  },
  {
   "cell_type": "code",
   "execution_count": 79,
   "id": "5a0e3fcb-7855-4d27-b720-de17e3aec1c7",
   "metadata": {},
   "outputs": [],
   "source": [
    "tcr_sel_all = link(tcr_data, hvg_data_all, 2)"
   ]
  },
  {
   "cell_type": "code",
   "execution_count": 80,
   "id": "86436701-921d-4db5-93e0-221341ca3297",
   "metadata": {},
   "outputs": [
    {
     "data": {
      "text/plain": [
       "2962"
      ]
     },
     "execution_count": 80,
     "metadata": {},
     "output_type": "execute_result"
    }
   ],
   "source": [
    "len(tcr_sel_all)"
   ]
  },
  {
   "cell_type": "markdown",
   "id": "d552b6c1-2cca-4163-944c-ab87934f6841",
   "metadata": {},
   "source": [
    "Finally, we got the exact number of each part. However, 10x TCR could match multiple adaptive records, and the same 10x barcode may have multiple TCR beta chains. The numbers are still approximate."
   ]
  },
  {
   "cell_type": "code",
   "execution_count": 95,
   "id": "4cc3fcb4-f445-4406-b1b6-a45ef851e723",
   "metadata": {},
   "outputs": [
    {
     "data": {
      "image/png": "[encoded data removed]",
      "text/plain": [
       "<Figure size 288x288 with 1 Axes>"
      ]
     },
     "metadata": {},
     "output_type": "display_data"
    }
   ],
   "source": [
    "plt.figure(figsize=(4,4))\n",
    "v = venn3(subsets=(5117 - 2962, 20000 - 464, 2962 - 464, 0, 0, 2135 - 464, 464), set_labels = ('10X', 'Adaptive', 'Labeled'))\n",
    "#v.get_patch_by_id('100').set_alpha(1.0)\n",
    "#v.get_patch_by_id('100').set_color('white')\n",
    "v.get_label_by_id('010').set_text(str(701532 - 2962))\n",
    "#v.get_label_by_id('110').set_text('?')\n",
    "#v.get_label_by_id('A').set_text('Set \"A\"')\n",
    "#c = venn3_circles(subsets=(1, 1, 1, 1, 1, 1, 1), linestyle='dashed')\n",
    "#c[0].set_lw(1.0)\n",
    "#c[0].set_ls('dotted')\n",
    "#plt.title(\"Sample Venn diagram\")\n",
    "plt.annotate('Multiple samples', xy=v.get_label_by_id('010').get_position() - np.array([0, 0.05]), xytext=(-70,-80),\n",
    "             ha='center', textcoords='offset points', bbox=dict(boxstyle='round,pad=0.5', fc='gray', alpha=0.1),\n",
    "             arrowprops=dict(arrowstyle='->', connectionstyle='arc3,rad=0.5',color='gray'))\n",
    "plt.annotate('unlabeled', xy=v.get_label_by_id('110').get_position() - np.array([0.05, -0.05]), xytext=(0,70),\n",
    "             ha='center', textcoords='offset points', bbox=dict(boxstyle='round,pad=0.5', fc='gray', alpha=0.1),\n",
    "             arrowprops=dict(arrowstyle='->', connectionstyle='arc3,rad=0.5',color='gray'))\n",
    "plt.show()"
   ]
  },
  {
   "cell_type": "code",
   "execution_count": null,
   "id": "69af2620-cd79-4dee-9116-92f3750114d9",
   "metadata": {},
   "outputs": [],
   "source": []
  }
 ],
 "metadata": {
  "kernelspec": {
   "display_name": "Python 3 (ipykernel)",
   "language": "python",
   "name": "python3"
  },
  "language_info": {
   "codemirror_mode": {
    "name": "ipython",
    "version": 3
   },
   "file_extension": ".py",
   "mimetype": "text/x-python",
   "name": "python",
   "nbconvert_exporter": "python",
   "pygments_lexer": "ipython3",
   "version": "3.7.3"
  }
 },
 "nbformat": 4,
 "nbformat_minor": 5
}
